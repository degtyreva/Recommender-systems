{
  "nbformat": 4,
  "nbformat_minor": 0,
  "metadata": {
    "kernelspec": {
      "display_name": "Python 3",
      "language": "python",
      "name": "python3"
    },
    "language_info": {
      "codemirror_mode": {
        "name": "ipython",
        "version": 3
      },
      "file_extension": ".py",
      "mimetype": "text/x-python",
      "name": "python",
      "nbconvert_exporter": "python",
      "pygments_lexer": "ipython3",
      "version": "3.7.3"
    },
    "colab": {
      "name": "HW_1_rs.ipynb\"",
      "provenance": [],
      "collapsed_sections": []
    }
  },
  "cells": [
    {
      "cell_type": "markdown",
      "metadata": {
        "id": "0X3Sr1is3txa"
      },
      "source": [
        "# Вебинары курса Рекомендательные системы\n",
        "\n",
        "1. Введение, примеры задач, бизнес- и ML-метрики\n",
        "2. Рекомендательные системы, основанные на диалоговом подходе.\n",
        "3. Коллаборативная фильтрация: ALS.\n",
        "4. Рекомендательные системы на основе контента. Поиск похожих товаров и пользователей. LightFM моедль. \n",
        "5. Ранжирование и гибридные рекомендательные системы\n",
        "6. Двухуровневые модели рекомендаций. Рекомендательные системы в бизнесе.\n",
        "7. Uplift\n",
        "8. Консультация к финальному проекту. Разбор ДЗ.\n",
        "\n"
      ]
    },
    {
      "cell_type": "markdown",
      "metadata": {
        "id": "S1WlFBZ64Pow"
      },
      "source": [
        "ДЗ:\n",
        "1. На \"отлично\" - сдать все задачи\n",
        "2. Сдавать в виде ссылок на git (не pull), на colab (не забыть расшарить права на чтение)\n",
        "3. Сроки - лоялно (главное успеть к концу)"
      ]
    },
    {
      "cell_type": "markdown",
      "metadata": {
        "id": "89mFQmjdo1gZ"
      },
      "source": [
        "# Вебинар 1. Введение, примеры задач, бизнес- и ML-метрики "
      ]
    },
    {
      "cell_type": "markdown",
      "metadata": {
        "id": "s26JxhrGo1ge"
      },
      "source": [
        "Николай Котенко\n",
        "1. ВШЭ: информационная бизнес-аналитика\n",
        "2. Тинькофф: аналитик-разработчик\n",
        "3. Сбер: Digital audit"
      ]
    },
    {
      "cell_type": "markdown",
      "metadata": {
        "id": "MJZwT8cSo1gi"
      },
      "source": [
        "-----"
      ]
    },
    {
      "cell_type": "markdown",
      "metadata": {
        "id": "R0sRGFuXo1gk"
      },
      "source": [
        "# 1. Введение и примеры задач"
      ]
    },
    {
      "cell_type": "markdown",
      "metadata": {
        "id": "z0ZCu4-Zo1gm"
      },
      "source": [
        "[RecSys everywhere](https://drive.google.com/file/d/1o9qF90P_AGoyYDn_aX3ph3kXnBQ55q7M/view?usp=sharing)"
      ]
    },
    {
      "cell_type": "markdown",
      "metadata": {
        "id": "Wvs4ACKHo1go"
      },
      "source": [
        "----"
      ]
    },
    {
      "cell_type": "markdown",
      "metadata": {
        "id": "jGZbdDSto1gq"
      },
      "source": [
        "[Skills](https://drive.google.com/file/d/16n2C1NQ5UJR9lHaPhBanQJ-vCl38xQee/view?usp=sharing)"
      ]
    },
    {
      "cell_type": "markdown",
      "metadata": {
        "id": "p4hQIpZ6o1gr"
      },
      "source": [
        "---"
      ]
    },
    {
      "cell_type": "markdown",
      "metadata": {
        "id": "EC6MY2VHo1gs"
      },
      "source": [
        "##  Постановка задачи\n",
        "\n",
        "*Задача рекомендаций* - предложить пользователю товары, которые ему \"понравятся\"\n",
        "\n",
        "Компоненты:\n",
        "    - Пользователи (users)\n",
        "    - Товары (items)\n",
        "    - Взаимодействия (interactions) - по ним понимаем, что товар \"понравился\""
      ]
    },
    {
      "cell_type": "markdown",
      "metadata": {
        "id": "9vjcDtI4o1gt"
      },
      "source": [
        "---"
      ]
    },
    {
      "cell_type": "markdown",
      "source": [
        "# Why no NN?"
      ],
      "metadata": {
        "id": "g1kj8F8PcXsv"
      }
    },
    {
      "cell_type": "markdown",
      "source": [
        "https://arxiv.org/pdf/1907.06902.pdf"
      ],
      "metadata": {
        "id": "OSO3-BiJcH7r"
      }
    },
    {
      "cell_type": "markdown",
      "source": [
        "https://github.com/MaurizioFD/RecSys2019_DeepLearning_Evaluation"
      ],
      "metadata": {
        "id": "w6ucaf8vdSdV"
      }
    },
    {
      "cell_type": "markdown",
      "source": [
        "________________________________________________________________________________"
      ],
      "metadata": {
        "id": "7o6v2_gVcDTD"
      }
    },
    {
      "cell_type": "markdown",
      "metadata": {
        "id": "F4lSmxSIo1g4"
      },
      "source": [
        "## Пользователи VS Товары\n",
        "\n",
        "[ex_user_items](https://drive.google.com/file/d/1m-nBz2aGgozqqmgD5mDxdUT6yOr4D4H_/view?usp=sharing)\n"
      ]
    },
    {
      "cell_type": "markdown",
      "metadata": {
        "id": "xQCfDa7Ro1g6"
      },
      "source": [
        "**Кейс**: определить в каждой ситуации, что является пользователем, а что - товаром\n",
        "    \n",
        "    1. На сайте Кинопоиска порекомендовать интересные фильмы\n",
        "    2. На сайте hh.ru подобрать лучшие вакансии для соискателя вакансий\n",
        "    3. На сайте hh.ru найти похожие вакансии на ту, которую сейчас просматривает пользователь (\"вам также может понравиться\")\n",
        "    3. На сайте hh.ru подобрать лучших кандидатов для работодателя\n",
        "    \n",
        "*Пример ответа в чате:*\n",
        "    1. Пользователь (П) - фильм, Товар (T) - фильм\n",
        "    2. П - работодатель, Т - соискатель вакансий"
      ]
    },
    {
      "cell_type": "markdown",
      "metadata": {
        "id": "6XvwnlkTo1g7"
      },
      "source": [
        "---"
      ]
    },
    {
      "cell_type": "markdown",
      "metadata": {
        "id": "hTptz8fIo1g8"
      },
      "source": [
        "## Взаимодействия --> \"понравился товар\"\n",
        "\n",
        "[ex_interactions](https://drive.google.com/file/d/1KjphiYNrkcK5YcRdEnsaDK0dOPdGT0Ct/view?usp=sharing)\n"
      ]
    },
    {
      "cell_type": "markdown",
      "metadata": {
        "id": "trQ6RNEto1g9"
      },
      "source": [
        "---"
      ]
    },
    {
      "cell_type": "markdown",
      "metadata": {
        "id": "gyYgtrV3o1g-"
      },
      "source": [
        "## В чем отличие от классификации?"
      ]
    },
    {
      "cell_type": "code",
      "metadata": {
        "id": "MDr2G6YIo1g_"
      },
      "source": [
        "import pandas as pd\n",
        "import numpy as np\n",
        "import math"
      ],
      "execution_count": 89,
      "outputs": []
    },
    {
      "cell_type": "code",
      "metadata": {
        "id": "5NPXqJeco1hH",
        "colab": {
          "base_uri": "https://localhost:8080/",
          "height": 143
        },
        "outputId": "48e5fb4f-4ccf-4705-ea26-54f3938b8c69"
      },
      "source": [
        "pd.DataFrame([['Иван', 'Хлеб Бородинский', 1],\n",
        "             ['Иван', 'Хлеб Белый', 0],\n",
        "             ['Василий', 'Йогурт Epica', 1]], columns=['user', 'item', 'purchase_fact'])"
      ],
      "execution_count": 35,
      "outputs": [
        {
          "output_type": "execute_result",
          "data": {
            "text/html": [
              "\n",
              "  <div id=\"df-fc45172c-3a25-4df0-80eb-51c84a3e2c76\">\n",
              "    <div class=\"colab-df-container\">\n",
              "      <div>\n",
              "<style scoped>\n",
              "    .dataframe tbody tr th:only-of-type {\n",
              "        vertical-align: middle;\n",
              "    }\n",
              "\n",
              "    .dataframe tbody tr th {\n",
              "        vertical-align: top;\n",
              "    }\n",
              "\n",
              "    .dataframe thead th {\n",
              "        text-align: right;\n",
              "    }\n",
              "</style>\n",
              "<table border=\"1\" class=\"dataframe\">\n",
              "  <thead>\n",
              "    <tr style=\"text-align: right;\">\n",
              "      <th></th>\n",
              "      <th>user</th>\n",
              "      <th>item</th>\n",
              "      <th>purchase_fact</th>\n",
              "    </tr>\n",
              "  </thead>\n",
              "  <tbody>\n",
              "    <tr>\n",
              "      <th>0</th>\n",
              "      <td>Иван</td>\n",
              "      <td>Хлеб Бородинский</td>\n",
              "      <td>1</td>\n",
              "    </tr>\n",
              "    <tr>\n",
              "      <th>1</th>\n",
              "      <td>Иван</td>\n",
              "      <td>Хлеб Белый</td>\n",
              "      <td>0</td>\n",
              "    </tr>\n",
              "    <tr>\n",
              "      <th>2</th>\n",
              "      <td>Василий</td>\n",
              "      <td>Йогурт Epica</td>\n",
              "      <td>1</td>\n",
              "    </tr>\n",
              "  </tbody>\n",
              "</table>\n",
              "</div>\n",
              "      <button class=\"colab-df-convert\" onclick=\"convertToInteractive('df-fc45172c-3a25-4df0-80eb-51c84a3e2c76')\"\n",
              "              title=\"Convert this dataframe to an interactive table.\"\n",
              "              style=\"display:none;\">\n",
              "        \n",
              "  <svg xmlns=\"http://www.w3.org/2000/svg\" height=\"24px\"viewBox=\"0 0 24 24\"\n",
              "       width=\"24px\">\n",
              "    <path d=\"M0 0h24v24H0V0z\" fill=\"none\"/>\n",
              "    <path d=\"M18.56 5.44l.94 2.06.94-2.06 2.06-.94-2.06-.94-.94-2.06-.94 2.06-2.06.94zm-11 1L8.5 8.5l.94-2.06 2.06-.94-2.06-.94L8.5 2.5l-.94 2.06-2.06.94zm10 10l.94 2.06.94-2.06 2.06-.94-2.06-.94-.94-2.06-.94 2.06-2.06.94z\"/><path d=\"M17.41 7.96l-1.37-1.37c-.4-.4-.92-.59-1.43-.59-.52 0-1.04.2-1.43.59L10.3 9.45l-7.72 7.72c-.78.78-.78 2.05 0 2.83L4 21.41c.39.39.9.59 1.41.59.51 0 1.02-.2 1.41-.59l7.78-7.78 2.81-2.81c.8-.78.8-2.07 0-2.86zM5.41 20L4 18.59l7.72-7.72 1.47 1.35L5.41 20z\"/>\n",
              "  </svg>\n",
              "      </button>\n",
              "      \n",
              "  <style>\n",
              "    .colab-df-container {\n",
              "      display:flex;\n",
              "      flex-wrap:wrap;\n",
              "      gap: 12px;\n",
              "    }\n",
              "\n",
              "    .colab-df-convert {\n",
              "      background-color: #E8F0FE;\n",
              "      border: none;\n",
              "      border-radius: 50%;\n",
              "      cursor: pointer;\n",
              "      display: none;\n",
              "      fill: #1967D2;\n",
              "      height: 32px;\n",
              "      padding: 0 0 0 0;\n",
              "      width: 32px;\n",
              "    }\n",
              "\n",
              "    .colab-df-convert:hover {\n",
              "      background-color: #E2EBFA;\n",
              "      box-shadow: 0px 1px 2px rgba(60, 64, 67, 0.3), 0px 1px 3px 1px rgba(60, 64, 67, 0.15);\n",
              "      fill: #174EA6;\n",
              "    }\n",
              "\n",
              "    [theme=dark] .colab-df-convert {\n",
              "      background-color: #3B4455;\n",
              "      fill: #D2E3FC;\n",
              "    }\n",
              "\n",
              "    [theme=dark] .colab-df-convert:hover {\n",
              "      background-color: #434B5C;\n",
              "      box-shadow: 0px 1px 3px 1px rgba(0, 0, 0, 0.15);\n",
              "      filter: drop-shadow(0px 1px 2px rgba(0, 0, 0, 0.3));\n",
              "      fill: #FFFFFF;\n",
              "    }\n",
              "  </style>\n",
              "\n",
              "      <script>\n",
              "        const buttonEl =\n",
              "          document.querySelector('#df-fc45172c-3a25-4df0-80eb-51c84a3e2c76 button.colab-df-convert');\n",
              "        buttonEl.style.display =\n",
              "          google.colab.kernel.accessAllowed ? 'block' : 'none';\n",
              "\n",
              "        async function convertToInteractive(key) {\n",
              "          const element = document.querySelector('#df-fc45172c-3a25-4df0-80eb-51c84a3e2c76');\n",
              "          const dataTable =\n",
              "            await google.colab.kernel.invokeFunction('convertToInteractive',\n",
              "                                                     [key], {});\n",
              "          if (!dataTable) return;\n",
              "\n",
              "          const docLinkHtml = 'Like what you see? Visit the ' +\n",
              "            '<a target=\"_blank\" href=https://colab.research.google.com/notebooks/data_table.ipynb>data table notebook</a>'\n",
              "            + ' to learn more about interactive tables.';\n",
              "          element.innerHTML = '';\n",
              "          dataTable['output_type'] = 'display_data';\n",
              "          await google.colab.output.renderOutput(dataTable, element);\n",
              "          const docLink = document.createElement('div');\n",
              "          docLink.innerHTML = docLinkHtml;\n",
              "          element.appendChild(docLink);\n",
              "        }\n",
              "      </script>\n",
              "    </div>\n",
              "  </div>\n",
              "  "
            ],
            "text/plain": [
              "      user              item  purchase_fact\n",
              "0     Иван  Хлеб Бородинский              1\n",
              "1     Иван        Хлеб Белый              0\n",
              "2  Василий      Йогурт Epica              1"
            ]
          },
          "metadata": {},
          "execution_count": 35
        }
      ]
    },
    {
      "cell_type": "markdown",
      "metadata": {
        "id": "qpT9cc8Ao1hP"
      },
      "source": [
        "Постойте, ведь можно добавить фичи на user (средний чек, кол-во покупок в категориях и т.д), \n",
        "на item (цена, кол-во продаж в неделю и т.l), и решать задачу классификации. В чем отличие RecSys от классификации?\n",
        "\n",
        " - Много предсказаний для 1 user (extreme classification)\n",
        " - Гораздо больший объем данных: 100K users, 10K items --> 1B предсказаний\n",
        " - Большинство товаров user никогда не видел --> Не взаимодействовал --> 0 не значит \"не понравился\"\n",
        " - Нет явного таргета. Не понятно, что значит \"(не) понравился\"\n",
        " - Feedback loop\n",
        " - Иногда важен порядок рекомендаций"
      ]
    },
    {
      "cell_type": "code",
      "metadata": {
        "id": "PI5Vw8z9o1hQ",
        "colab": {
          "base_uri": "https://localhost:8080/",
          "height": 238
        },
        "outputId": "65874f97-d6d8-44f7-eabf-8310eaed7092"
      },
      "source": [
        "pd.DataFrame([['Иван', 'Хлеб Бородинский', 1],\n",
        "              ['Иван', 'Хлеб Белый', 0],\n",
        "              ['Иван', 'Йогурт Epica', \"?\"],\n",
        "              ['Василий', 'Хлеб Бородинский', \"?\"],\n",
        "              ['Василий', 'Хлеб Белый', \"?\"],\n",
        "              ['Василий', 'Йогурт Epica', 1]], columns=['user', 'item', 'purchase_fact'])"
      ],
      "execution_count": 36,
      "outputs": [
        {
          "output_type": "execute_result",
          "data": {
            "text/html": [
              "\n",
              "  <div id=\"df-e82deb4a-2938-4ff7-8974-866196327293\">\n",
              "    <div class=\"colab-df-container\">\n",
              "      <div>\n",
              "<style scoped>\n",
              "    .dataframe tbody tr th:only-of-type {\n",
              "        vertical-align: middle;\n",
              "    }\n",
              "\n",
              "    .dataframe tbody tr th {\n",
              "        vertical-align: top;\n",
              "    }\n",
              "\n",
              "    .dataframe thead th {\n",
              "        text-align: right;\n",
              "    }\n",
              "</style>\n",
              "<table border=\"1\" class=\"dataframe\">\n",
              "  <thead>\n",
              "    <tr style=\"text-align: right;\">\n",
              "      <th></th>\n",
              "      <th>user</th>\n",
              "      <th>item</th>\n",
              "      <th>purchase_fact</th>\n",
              "    </tr>\n",
              "  </thead>\n",
              "  <tbody>\n",
              "    <tr>\n",
              "      <th>0</th>\n",
              "      <td>Иван</td>\n",
              "      <td>Хлеб Бородинский</td>\n",
              "      <td>1</td>\n",
              "    </tr>\n",
              "    <tr>\n",
              "      <th>1</th>\n",
              "      <td>Иван</td>\n",
              "      <td>Хлеб Белый</td>\n",
              "      <td>0</td>\n",
              "    </tr>\n",
              "    <tr>\n",
              "      <th>2</th>\n",
              "      <td>Иван</td>\n",
              "      <td>Йогурт Epica</td>\n",
              "      <td>?</td>\n",
              "    </tr>\n",
              "    <tr>\n",
              "      <th>3</th>\n",
              "      <td>Василий</td>\n",
              "      <td>Хлеб Бородинский</td>\n",
              "      <td>?</td>\n",
              "    </tr>\n",
              "    <tr>\n",
              "      <th>4</th>\n",
              "      <td>Василий</td>\n",
              "      <td>Хлеб Белый</td>\n",
              "      <td>?</td>\n",
              "    </tr>\n",
              "    <tr>\n",
              "      <th>5</th>\n",
              "      <td>Василий</td>\n",
              "      <td>Йогурт Epica</td>\n",
              "      <td>1</td>\n",
              "    </tr>\n",
              "  </tbody>\n",
              "</table>\n",
              "</div>\n",
              "      <button class=\"colab-df-convert\" onclick=\"convertToInteractive('df-e82deb4a-2938-4ff7-8974-866196327293')\"\n",
              "              title=\"Convert this dataframe to an interactive table.\"\n",
              "              style=\"display:none;\">\n",
              "        \n",
              "  <svg xmlns=\"http://www.w3.org/2000/svg\" height=\"24px\"viewBox=\"0 0 24 24\"\n",
              "       width=\"24px\">\n",
              "    <path d=\"M0 0h24v24H0V0z\" fill=\"none\"/>\n",
              "    <path d=\"M18.56 5.44l.94 2.06.94-2.06 2.06-.94-2.06-.94-.94-2.06-.94 2.06-2.06.94zm-11 1L8.5 8.5l.94-2.06 2.06-.94-2.06-.94L8.5 2.5l-.94 2.06-2.06.94zm10 10l.94 2.06.94-2.06 2.06-.94-2.06-.94-.94-2.06-.94 2.06-2.06.94z\"/><path d=\"M17.41 7.96l-1.37-1.37c-.4-.4-.92-.59-1.43-.59-.52 0-1.04.2-1.43.59L10.3 9.45l-7.72 7.72c-.78.78-.78 2.05 0 2.83L4 21.41c.39.39.9.59 1.41.59.51 0 1.02-.2 1.41-.59l7.78-7.78 2.81-2.81c.8-.78.8-2.07 0-2.86zM5.41 20L4 18.59l7.72-7.72 1.47 1.35L5.41 20z\"/>\n",
              "  </svg>\n",
              "      </button>\n",
              "      \n",
              "  <style>\n",
              "    .colab-df-container {\n",
              "      display:flex;\n",
              "      flex-wrap:wrap;\n",
              "      gap: 12px;\n",
              "    }\n",
              "\n",
              "    .colab-df-convert {\n",
              "      background-color: #E8F0FE;\n",
              "      border: none;\n",
              "      border-radius: 50%;\n",
              "      cursor: pointer;\n",
              "      display: none;\n",
              "      fill: #1967D2;\n",
              "      height: 32px;\n",
              "      padding: 0 0 0 0;\n",
              "      width: 32px;\n",
              "    }\n",
              "\n",
              "    .colab-df-convert:hover {\n",
              "      background-color: #E2EBFA;\n",
              "      box-shadow: 0px 1px 2px rgba(60, 64, 67, 0.3), 0px 1px 3px 1px rgba(60, 64, 67, 0.15);\n",
              "      fill: #174EA6;\n",
              "    }\n",
              "\n",
              "    [theme=dark] .colab-df-convert {\n",
              "      background-color: #3B4455;\n",
              "      fill: #D2E3FC;\n",
              "    }\n",
              "\n",
              "    [theme=dark] .colab-df-convert:hover {\n",
              "      background-color: #434B5C;\n",
              "      box-shadow: 0px 1px 3px 1px rgba(0, 0, 0, 0.15);\n",
              "      filter: drop-shadow(0px 1px 2px rgba(0, 0, 0, 0.3));\n",
              "      fill: #FFFFFF;\n",
              "    }\n",
              "  </style>\n",
              "\n",
              "      <script>\n",
              "        const buttonEl =\n",
              "          document.querySelector('#df-e82deb4a-2938-4ff7-8974-866196327293 button.colab-df-convert');\n",
              "        buttonEl.style.display =\n",
              "          google.colab.kernel.accessAllowed ? 'block' : 'none';\n",
              "\n",
              "        async function convertToInteractive(key) {\n",
              "          const element = document.querySelector('#df-e82deb4a-2938-4ff7-8974-866196327293');\n",
              "          const dataTable =\n",
              "            await google.colab.kernel.invokeFunction('convertToInteractive',\n",
              "                                                     [key], {});\n",
              "          if (!dataTable) return;\n",
              "\n",
              "          const docLinkHtml = 'Like what you see? Visit the ' +\n",
              "            '<a target=\"_blank\" href=https://colab.research.google.com/notebooks/data_table.ipynb>data table notebook</a>'\n",
              "            + ' to learn more about interactive tables.';\n",
              "          element.innerHTML = '';\n",
              "          dataTable['output_type'] = 'display_data';\n",
              "          await google.colab.output.renderOutput(dataTable, element);\n",
              "          const docLink = document.createElement('div');\n",
              "          docLink.innerHTML = docLinkHtml;\n",
              "          element.appendChild(docLink);\n",
              "        }\n",
              "      </script>\n",
              "    </div>\n",
              "  </div>\n",
              "  "
            ],
            "text/plain": [
              "      user              item purchase_fact\n",
              "0     Иван  Хлеб Бородинский             1\n",
              "1     Иван        Хлеб Белый             0\n",
              "2     Иван      Йогурт Epica             ?\n",
              "3  Василий  Хлеб Бородинский             ?\n",
              "4  Василий        Хлеб Белый             ?\n",
              "5  Василий      Йогурт Epica             1"
            ]
          },
          "metadata": {},
          "execution_count": 36
        }
      ]
    },
    {
      "cell_type": "markdown",
      "metadata": {
        "id": "qjBbrZqIo1hX"
      },
      "source": [
        "----"
      ]
    },
    {
      "cell_type": "markdown",
      "metadata": {
        "id": "40b-1kBbo1hY"
      },
      "source": [
        "## Основные типы задач:\n",
        "    \n",
        "**Рекомендация топ-К товаров**: Дан список товаров. Рекомендовать пользователю K товаров, которые ему понравятся\n",
        "    - e-mail рассылки (М.Видео, Hoff, Пятерочка)\n",
        "    - push-уведомления (Delivery Club, HeadHunter, Виктория)\n",
        "    - Рекомендации в отдельном окне на сайте (vk, okko)\n",
        "\n",
        "**Ранжирование товаров**: Дан список товаров. Нужно его отранжировать в порядке убывания интереса для пользователя\n",
        "    - Ранжирование каталога товаров (Wildberries, Lamoda)\n",
        "    - Ранжирование ленты (vk, Я.Дзен)\n",
        "    - Ранжирование поисковой выдачи (Яндекс, Гугл)\n",
        "    - Ранжирование \"каруселей\" товаров (Delivery Club, Я.Еда)\n",
        "    \n",
        "**Поиск похожих товаров**: Дан 1 товар. Нужно найти наиболее похожие на него товары\n",
        "    - \"Вам также может понравиться\" (Ozon, Циан)\n",
        "    - Похожим пользователям понравилось (vk)\n",
        "    - Вы можете быть знакомы (vk, facebook)\n",
        "    \n",
        "**Рекомендация дополнителдьного товара**. Дан 1 товар. Найти товары, которые покупают вместе с этим товаром\n",
        "    - С этим товаром часто покупают (Я.Маркет, Ozon, М.Видео)\n",
        "    \n",
        "   \n",
        "---\n",
        "На 5 вебинаре мы разберем системы ранжирования"
      ]
    },
    {
      "cell_type": "markdown",
      "metadata": {
        "id": "4qVx3IG0o1hZ"
      },
      "source": [
        "---"
      ]
    },
    {
      "cell_type": "markdown",
      "metadata": {
        "id": "8VrZhsIbo1ha"
      },
      "source": [
        "# 2. ML-mетрики качества"
      ]
    },
    {
      "cell_type": "markdown",
      "metadata": {
        "id": "0dnPDNLYo1hc"
      },
      "source": [
        "*Хороши ли рекомендации, предлагаемые моделью?*  \n",
        "Обычно считаются для каждого юзера, затем усредняются по юзерам"
      ]
    },
    {
      "cell_type": "markdown",
      "metadata": {
        "id": "VrlXLSNao1he"
      },
      "source": [
        "Представим, что в магазине всего 10 товаров"
      ]
    },
    {
      "cell_type": "code",
      "metadata": {
        "id": "bxqcDo_vo1hh"
      },
      "source": [
        "recommended_list = [143, 156, 1134, 991, 27, 1543, 3345, 533, 11, 43] #id товаров\n",
        "bought_list = [521, 32, 143, 991]"
      ],
      "execution_count": 37,
      "outputs": []
    },
    {
      "cell_type": "code",
      "source": [
        "len(recommended_list)"
      ],
      "metadata": {
        "colab": {
          "base_uri": "https://localhost:8080/"
        },
        "id": "RGgX80cJkaTQ",
        "outputId": "6dd58956-a3b3-4f24-9c9e-7172e8a9ff89"
      },
      "execution_count": 38,
      "outputs": [
        {
          "output_type": "execute_result",
          "data": {
            "text/plain": [
              "10"
            ]
          },
          "metadata": {},
          "execution_count": 38
        }
      ]
    },
    {
      "cell_type": "markdown",
      "metadata": {
        "id": "IZ6mlwcSo1hn"
      },
      "source": [
        "### 1. Hit rate\n",
        "\n",
        "Hit rate = был ли хотя бы 1 релевантный товар среди рекомендованных\n",
        "\n",
        "- Иногда применяется, когда продаются достаточно дрогие товары (например, бытовая техника) \n",
        "\n",
        "----\n",
        "Hit rate = (был ли хотя бы 1 релевантный товар среди рекомендованных)   \n",
        "\n",
        "Hit rate@k = (был ли хотя бы 1 релевантный товар среди топ-k рекомендованных)"
      ]
    },
    {
      "cell_type": "code",
      "metadata": {
        "id": "UdC9moeIo1ho"
      },
      "source": [
        "def hit_rate(recommended_list, bought_list):\n",
        "    \n",
        "    bought_list = np.array(bought_list)\n",
        "    recommended_list = np.array(recommended_list)\n",
        "    \n",
        "    flags = np.isin(bought_list, recommended_list)\n",
        "    \n",
        "    hit_rate = (flags.sum() > 0) * 1\n",
        "    \n",
        "    return hit_rate\n",
        "\n",
        "\n",
        "def hit_rate_at_k(recommended_list, bought_list, k=5):\n",
        "    \n",
        "    bought_list = np.array(bought_list)\n",
        "    recommended_list = np.array(recommended_list)[:k]\n",
        "    \n",
        "    flags = np.isin(bought_list, recommended_list)\n",
        "    hit_rate_at_k = (flags.sum() > 0) * 1\n",
        "    \n",
        "    \n",
        "    return hit_rate_at_k"
      ],
      "execution_count": 39,
      "outputs": []
    },
    {
      "cell_type": "code",
      "metadata": {
        "id": "cQXLlorio1hs",
        "colab": {
          "base_uri": "https://localhost:8080/"
        },
        "outputId": "0e8304b9-a4c7-4637-a1a3-6f32013a1b58"
      },
      "source": [
        "hit_rate(recommended_list, bought_list)"
      ],
      "execution_count": 40,
      "outputs": [
        {
          "output_type": "execute_result",
          "data": {
            "text/plain": [
              "1"
            ]
          },
          "metadata": {},
          "execution_count": 40
        }
      ]
    },
    {
      "cell_type": "code",
      "source": [
        "hit_rate_at_k(recommended_list, bought_list, k=10)"
      ],
      "metadata": {
        "colab": {
          "base_uri": "https://localhost:8080/"
        },
        "id": "Tm2DlyFj-qef",
        "outputId": "3cec45b8-4c24-452c-ae70-e99829f3b1d2"
      },
      "execution_count": 41,
      "outputs": [
        {
          "output_type": "execute_result",
          "data": {
            "text/plain": [
              "1"
            ]
          },
          "metadata": {},
          "execution_count": 41
        }
      ]
    },
    {
      "cell_type": "markdown",
      "metadata": {
        "id": "iwXCUigno1hy"
      },
      "source": [
        "### 2. Precision\n",
        "\n",
        "*Precision* - доля релевантных товаров среди рекомендованных = Какой % рекомендованных товаров  юзер купил\n",
        "\n",
        "- Пожалуй, самая приближенная к бизнес-метрикам и самая популярная метрика\n",
        "\n",
        "---\n",
        "\n",
        "Precision= (# of recommended items that are relevant) / (# of recommended items)  \n",
        "\n",
        "Precision@k = (# of recommended items @k that are relevant) / (# of recommended items @k)\n",
        "\n",
        "Money Precision@k = (revenue of recommended items @k that are relevant) / (revenue of recommended items @k)  \n",
        "\n",
        "**Note:** Обычно k в precision@k достаточно невелико (5-20) и определяется из бизнес-логики. Например, 5 товаров в e-mail рассылке, 20 ответов на первой странице google и т.д"
      ]
    },
    {
      "cell_type": "markdown",
      "metadata": {
        "id": "WvSzvvmMo1hz"
      },
      "source": [
        "Красная рыба - 400 руб  \n",
        "Молоко - 60 руб  \n",
        "Хлеб = 40 руб  \n",
        "Гречка = 40 руб  \n",
        "Шоколад = 90 руб  \n",
        "\n",
        "------  \n",
        "Варенье - 240 руб  \n",
        "...  \n",
        "\n",
        "**Case 1**  \n",
        "prices_resommended = [400, 60, 40, 40 , 90]  \n",
        "flags = [1, 0, 0, 0 , 1]  \n",
        "\n",
        "$precison@5 = \\frac{1 + 0 + 0 +0 + 1}{1+1+1+1+1} = 40\\%$  \n",
        "$money precision@5 = \\frac{1*400 + 0*60 + ... + 1*90}{1*400 + 1*60 + ... + 1*90} = 77.7\\%$  \n",
        "\n",
        "  \n",
        "**Case 2**   \n",
        "prices_resommended = [60, 400,  40, 40 , 90]  \n",
        "flags = [1, 0,  0, 0 , 1]  \n",
        "\n",
        "$precison@5 = \\frac{0 + 1 + 0 +0 + 1}{1+1+1+1+1} = 40\\%$  \n",
        "$money precision@5 = \\frac{0*400 + 1*60 + ... + 1*90}{1*400 + 1*60 + ... + 1*90} = 15.8\\%$"
      ]
    },
    {
      "cell_type": "code",
      "metadata": {
        "id": "bDZRoYivo1h1"
      },
      "source": [
        "def precision(recommended_list, bought_list):\n",
        "    \n",
        "    bought_list = np.array(bought_list)\n",
        "    recommended_list = np.array(recommended_list)\n",
        "    \n",
        "    flags = np.isin(bought_list, recommended_list)\n",
        "    \n",
        "    precision = flags.sum() / len(recommended_list)\n",
        "    \n",
        "    return precision\n",
        "\n",
        "\n",
        "def precision_at_k(recommended_list, bought_list, k=5):\n",
        "    \n",
        "    bought_list = np.array(bought_list)\n",
        "    recommended_list = np.array(recommended_list)\n",
        "    \n",
        "    #assert len(bought_list) > len(recommended_list)\n",
        "    bought_list = bought_list  # Тут нет [:k] !!\n",
        "    recommended_list = recommended_list[:k]\n",
        "    \n",
        "    flags = np.isin(bought_list, recommended_list)\n",
        "    \n",
        "    precision = flags.sum() / len(recommended_list)\n",
        "    \n",
        "    \n",
        "    return precision\n",
        "\n",
        "\n",
        "def money_precision_at_k(recommended_list, bought_list, prices_list, k=5):\n",
        "        \n",
        "    # your_code\n",
        "    # Лучше считать через скалярное произведение, а не цикл\n",
        "    bought_list = np.array(bought_list)\n",
        "    recommended_list = np.array(recommended_list)[:k]\n",
        "    prices_list = np.array(prices_list)[:k]\n",
        "    \n",
        "    # определяем метки купленных товаров среди рекомендованных\n",
        "    flags = np.where(np.isin(recommended_list, bought_list), 1, 0)\n",
        "    \n",
        "    # рассчитаем revenue от рекомендованных релеватных товаров скалярным произведением\n",
        "    recommended_relevant_rev = np.dot(flags, prices_list)\n",
        "    \n",
        "    precision_at_k = recommended_relevant_rev/sum(prices_list)\n",
        "    \n",
        "    return precision_at_k\n",
        "    \n"
      ],
      "execution_count": 42,
      "outputs": []
    },
    {
      "cell_type": "code",
      "source": [
        "# Добавим цены на рекомендованные товары\n",
        "prices_for_recommended = [100, 40, 100, 240, 25, 400, 180, 110, 220, 55, 190, 500, 80, 160, 300]"
      ],
      "metadata": {
        "id": "JiPkbmVaAQsd"
      },
      "execution_count": 43,
      "outputs": []
    },
    {
      "cell_type": "code",
      "metadata": {
        "id": "rfL2QSH1o1h5",
        "colab": {
          "base_uri": "https://localhost:8080/"
        },
        "outputId": "4d3cb6d1-d673-4208-d410-f794966dbadd"
      },
      "source": [
        "precision(recommended_list, bought_list)"
      ],
      "execution_count": 44,
      "outputs": [
        {
          "output_type": "execute_result",
          "data": {
            "text/plain": [
              "0.2"
            ]
          },
          "metadata": {},
          "execution_count": 44
        }
      ]
    },
    {
      "cell_type": "code",
      "metadata": {
        "id": "CyA_YiPLo1h9",
        "colab": {
          "base_uri": "https://localhost:8080/"
        },
        "outputId": "c2f6b03b-04f0-4fb8-ca2e-04b2de9e51e3"
      },
      "source": [
        "precision_at_k(recommended_list, bought_list, k=5)"
      ],
      "execution_count": 45,
      "outputs": [
        {
          "output_type": "execute_result",
          "data": {
            "text/plain": [
              "0.4"
            ]
          },
          "metadata": {},
          "execution_count": 45
        }
      ]
    },
    {
      "cell_type": "code",
      "metadata": {
        "id": "35CJV2C7o1iB",
        "colab": {
          "base_uri": "https://localhost:8080/"
        },
        "outputId": "52a76c69-f9b7-4ec9-f9bf-1400c77cd37b"
      },
      "source": [
        "precision_at_k(recommended_list, bought_list, k=3)"
      ],
      "execution_count": 46,
      "outputs": [
        {
          "output_type": "execute_result",
          "data": {
            "text/plain": [
              "0.3333333333333333"
            ]
          },
          "metadata": {},
          "execution_count": 46
        }
      ]
    },
    {
      "cell_type": "code",
      "source": [
        "money_precision_at_k(recommended_list, bought_list, prices_for_recommended, k=5)\n"
      ],
      "metadata": {
        "colab": {
          "base_uri": "https://localhost:8080/"
        },
        "id": "2nBeIquRAqMo",
        "outputId": "040faa80-a3ee-4415-f3b0-63f89f0345e7"
      },
      "execution_count": 47,
      "outputs": [
        {
          "output_type": "execute_result",
          "data": {
            "text/plain": [
              "0.6732673267326733"
            ]
          },
          "metadata": {},
          "execution_count": 47
        }
      ]
    },
    {
      "cell_type": "markdown",
      "metadata": {
        "id": "NfVd3dnCo1iN"
      },
      "source": [
        "### 3. Recall\n",
        "\n",
        "*Recall* - доля рекомендованных товаров среди релевантных = Какой % купленных товаров был среди рекомендованных\n",
        "\n",
        "- Обычно используется для моделей пре-фильтрации товаров (убрать те товары, которые точно не будем рекомендовать)\n",
        "\n",
        "---\n",
        "\n",
        "Recall= (# of recommended items that are relevant) / (# of relevant items)  \n",
        "\n",
        "Recall@k = (# of recommended items @k that are relevant) / (# of relevant items)\n",
        "\n",
        "Money Recall@k = (revenue of recommended items @k that are relevant) / (revenue of relevant items)  \n",
        "\n",
        "    \n",
        "  \n",
        "**Note:** в recall@k число k обычно достаточно большое (50-200), больше чем покупок у среднестатистического юзера"
      ]
    },
    {
      "cell_type": "code",
      "metadata": {
        "id": "g2sl_HTfo1iS"
      },
      "source": [
        "def recall(recommended_list, bought_list):\n",
        "    \n",
        "    bought_list = np.array(bought_list)\n",
        "    recommended_list = np.array(recommended_list)\n",
        "    \n",
        "    flags = np.isin(bought_list, recommended_list)\n",
        "    \n",
        "    recall = flags.sum() / len(bought_list)\n",
        "    \n",
        "    return recall\n",
        "\n",
        "\n",
        "def recall_at_k(recommended_list, bought_list, k=5):\n",
        "    \n",
        "    # your_code\n",
        "    bought_list = np.array(bought_list)\n",
        "    recommended_list = np.array(recommended_list)[:k]\n",
        "    \n",
        "    flags = np.where(np.isin(recommended_list, bought_list), 1, 0)\n",
        "    \n",
        "    recall_at_k = sum(flags)/len(bought_list)\n",
        "    \n",
        "    return recall_at_k\n",
        "\n",
        "\n",
        "def money_recall_at_k(recommended_list, bought_list, prices_recommended, prices_bought, k=5):\n",
        "    \n",
        "    # your_code\n",
        "    bought_list = np.array(bought_list)\n",
        "    recommended_list = np.array(recommended_list)[:k]\n",
        "    prices_recommended = np.array(prices_recommended)[:k]\n",
        "    \n",
        "    flags = np.where(np.isin(recommended_list, bought_list), 1, 0)\n",
        "    \n",
        "    recommended_relevant_rev = np.dot(flags, prices_recommended)\n",
        "    \n",
        "    money_recall_at_k = recommended_relevant_rev/sum(prices_bought)\n",
        "    \n",
        "    return money_recall_at_k"
      ],
      "execution_count": 48,
      "outputs": []
    },
    {
      "cell_type": "code",
      "metadata": {
        "id": "kd4I_xqvo1iX",
        "colab": {
          "base_uri": "https://localhost:8080/"
        },
        "outputId": "cb7209ca-9edf-4d89-dff5-bd6d5fc3f42f"
      },
      "source": [
        "recall(recommended_list, bought_list)"
      ],
      "execution_count": 49,
      "outputs": [
        {
          "output_type": "execute_result",
          "data": {
            "text/plain": [
              "0.5"
            ]
          },
          "metadata": {},
          "execution_count": 49
        }
      ]
    },
    {
      "cell_type": "code",
      "source": [
        "recall_at_k(recommended_list, bought_list, k=5)"
      ],
      "metadata": {
        "colab": {
          "base_uri": "https://localhost:8080/"
        },
        "id": "GcaGautNCk_6",
        "outputId": "4abe9f6a-1409-4450-d72e-dcf3848736ab"
      },
      "execution_count": 50,
      "outputs": [
        {
          "output_type": "execute_result",
          "data": {
            "text/plain": [
              "0.5"
            ]
          },
          "metadata": {},
          "execution_count": 50
        }
      ]
    },
    {
      "cell_type": "code",
      "source": [
        "# Добавим цены на купленные товары\n",
        "prices_for_bought = list(np.random.randint(10,500,len(bought_list)))\n",
        "# Заменим значения релевантных рекомедованных товаров на уже известные цены этих рекомендованных товаров\n",
        "for i in np.where(np.isin(bought_list, recommended_list))[0]:  #возвращаем индексы релеватных рекомендованных элементов\n",
        "    prices_for_bought[i] = prices_for_recommended[i]"
      ],
      "metadata": {
        "id": "qhl_lrcMC-oF"
      },
      "execution_count": 54,
      "outputs": []
    },
    {
      "cell_type": "code",
      "source": [
        "prices_for_bought"
      ],
      "metadata": {
        "colab": {
          "base_uri": "https://localhost:8080/"
        },
        "id": "HwlsrRT9DMZy",
        "outputId": "774d9f55-8a5f-4025-bbc9-7737da1f6026"
      },
      "execution_count": 55,
      "outputs": [
        {
          "output_type": "execute_result",
          "data": {
            "text/plain": [
              "[362, 45, 100, 240]"
            ]
          },
          "metadata": {},
          "execution_count": 55
        }
      ]
    },
    {
      "cell_type": "code",
      "source": [
        "prices_for_recommended"
      ],
      "metadata": {
        "colab": {
          "base_uri": "https://localhost:8080/"
        },
        "id": "pDAfMM5jDQ-H",
        "outputId": "c7203f79-337a-4875-e456-629d93b02b36"
      },
      "execution_count": 56,
      "outputs": [
        {
          "output_type": "execute_result",
          "data": {
            "text/plain": [
              "[100, 40, 100, 240, 25, 400, 180, 110, 220, 55, 190, 500, 80, 160, 300]"
            ]
          },
          "metadata": {},
          "execution_count": 56
        }
      ]
    },
    {
      "cell_type": "markdown",
      "metadata": {
        "id": "A-9Go3EOo1ib"
      },
      "source": [
        "---"
      ]
    },
    {
      "cell_type": "markdown",
      "metadata": {
        "id": "p06Ri8-go1ic"
      },
      "source": [
        "# Метрики ранжирования"
      ]
    },
    {
      "cell_type": "markdown",
      "metadata": {
        "id": "Rnd4DCp5o1id"
      },
      "source": [
        "Если важен порядок рекомендаций. Подробнее можно почитать [здесь](https://habr.com/ru/company/econtenta/blog/303458/). Формулы в статье могут несколько отличаться от формул в лекции "
      ]
    },
    {
      "cell_type": "markdown",
      "metadata": {
        "id": "F95YT0wwo1id"
      },
      "source": [
        "## AP@k\n",
        "AP@k - average precision at k\n",
        "\n",
        "$$AP@k = \\frac{1}{r} \\sum{[recommended_{relevant_i}] * precision@k}$$\n",
        "\n",
        "- r - кол-во релевантный среди рекомендованных\n",
        "- Суммируем по всем релевантным товарам\n",
        "- Зависит от порядка реокмендаций"
      ]
    },
    {
      "cell_type": "code",
      "metadata": {
        "id": "HfAfQgGRo1ie"
      },
      "source": [
        "def ap_k(recommended_list, bought_list, k=5):\n",
        "    \n",
        "    bought_list = np.array(bought_list)\n",
        "    recommended_list = np.array(recommended_list)\n",
        "    \n",
        "    flags = np.isin(recommended_list, bought_list)\n",
        "    \n",
        "    if sum(flags) == 0:\n",
        "        return 0\n",
        "    \n",
        "    sum_ = 0\n",
        "    for i in range(0, k-1):\n",
        "        if flags[i] == True:\n",
        "            p_k = precision_at_k(recommended_list, bought_list, k=i+1)\n",
        "            sum_ += p_k\n",
        "            \n",
        "    result = sum_ / sum(flags)\n",
        "    \n",
        "    return result"
      ],
      "execution_count": 57,
      "outputs": []
    },
    {
      "cell_type": "code",
      "metadata": {
        "id": "iBa1KbKio1il",
        "colab": {
          "base_uri": "https://localhost:8080/"
        },
        "outputId": "9c148e24-b4c6-4b78-afc9-8e6385e534ee"
      },
      "source": [
        "ap_k(recommended_list, bought_list, k=5)"
      ],
      "execution_count": 58,
      "outputs": [
        {
          "output_type": "execute_result",
          "data": {
            "text/plain": [
              "0.75"
            ]
          },
          "metadata": {},
          "execution_count": 58
        }
      ]
    },
    {
      "cell_type": "markdown",
      "metadata": {
        "id": "GyKVp_A_o1ip"
      },
      "source": [
        "### MAP@k\n",
        "\n",
        "MAP@k (Mean Average Precision@k)  \n",
        "Среднее AP@k по всем юзерам\n",
        "- Показывает средневзвешенную точность рекомендаций\n",
        "\n",
        "$$MAP@k = \\frac{1}{|U|} \\sum_u{AP_k}$$\n",
        "  \n",
        "|U| - кол-во юзеров"
      ]
    },
    {
      "cell_type": "code",
      "source": [
        "recommended_list = [[143, 156, 1134, 991, 27, 1543, 3345, 533, 11, 43],  #id товаров юзер 1\n",
        "                    [146, 156, 1134, 991, 27, 1543, 3345, 533, 11, 43],] #id товаров юзер 2\n",
        "bought_list = [[521, 32, 143, 991] # юзер 1\n",
        "               , [146, 29]] # юзер 2"
      ],
      "metadata": {
        "id": "_BrNPDTtlJPc"
      },
      "execution_count": 107,
      "outputs": []
    },
    {
      "cell_type": "code",
      "metadata": {
        "id": "heZq-3_Vo1iq"
      },
      "source": [
        "def map_k(recommended_list, bought_list, k=5, u=1):\n",
        "    \n",
        "    # your_code\n",
        "    num_users = len(bought_list)\n",
        "    result = np.average([ap_k(recommended_list[i], bought_list[i], k) for i in range(num_users)])\n",
        "    \n",
        "    return result"
      ],
      "execution_count": 62,
      "outputs": []
    },
    {
      "cell_type": "code",
      "source": [
        "map_k(recommended_list, bought_list)"
      ],
      "metadata": {
        "colab": {
          "base_uri": "https://localhost:8080/"
        },
        "id": "tJODgx93F0h4",
        "outputId": "72c5d0df-54de-48c5-bfe9-d81a519bb7c8"
      },
      "execution_count": 63,
      "outputs": [
        {
          "output_type": "execute_result",
          "data": {
            "text/plain": [
              "0.875"
            ]
          },
          "metadata": {},
          "execution_count": 63
        }
      ]
    },
    {
      "cell_type": "markdown",
      "metadata": {
        "id": "Ziy893rxo1iw"
      },
      "source": [
        "### AUC@k\n",
        "AUC для первых k наблюдений  \n",
        "- Можно посчитать как sklern.metrics.roc_auc_score для топ-k предсказаний\n",
        "- Показывает долю верно отранжированных товаров"
      ]
    },
    {
      "cell_type": "markdown",
      "metadata": {
        "id": "-aRUBub7o1ix"
      },
      "source": [
        "### NDCG@k\n",
        "Normalized discounted cumulative gain\n",
        "\n",
        "$$DCG = \\frac{1}{|r|} \\sum_u{\\frac{[bought fact]}{discount(i)}}$$  \n",
        "\n",
        "$discount(i) = 1$ if $i <= 2$,   \n",
        "$discount(i) = log_2(i)$ if $i > 2$\n",
        "\n",
        "\n",
        "(!) Считаем для первых k рекоммендаций   \n",
        "(!) - существуют вариации с другими $discount(i)$  \n",
        "i - ранк рекомендованного товара  \n",
        "|r| - кол-во рекомендованных товаров \n",
        "\n",
        "$$NDCG = \\frac{DCG}{ideal DCG}$$\n"
      ]
    },
    {
      "cell_type": "markdown",
      "source": [
        "https://pytorch.org/docs/stable/index.html"
      ],
      "metadata": {
        "id": "6hFxrNKnne9A"
      }
    },
    {
      "cell_type": "code",
      "metadata": {
        "id": "njQIUE-xo1iy"
      },
      "source": [
        "import torch\n",
        "N = 5\n",
        "ys_true = torch.randint(0, 5, (N, ))\n",
        "ys_pred = torch.rand(N)"
      ],
      "execution_count": 64,
      "outputs": []
    },
    {
      "cell_type": "code",
      "metadata": {
        "colab": {
          "base_uri": "https://localhost:8080/"
        },
        "id": "rj-PU-JQJLNq",
        "outputId": "8c00ef8d-e70a-42bf-d21a-9fd395704863"
      },
      "source": [
        "ys_true"
      ],
      "execution_count": 65,
      "outputs": [
        {
          "output_type": "execute_result",
          "data": {
            "text/plain": [
              "tensor([2, 0, 2, 2, 2])"
            ]
          },
          "metadata": {},
          "execution_count": 65
        }
      ]
    },
    {
      "cell_type": "code",
      "source": [
        "ys_pred"
      ],
      "metadata": {
        "colab": {
          "base_uri": "https://localhost:8080/"
        },
        "id": "-tcqPKZEnOwy",
        "outputId": "7e910d86-9225-4088-b49d-0d4c25868bae"
      },
      "execution_count": 66,
      "outputs": [
        {
          "output_type": "execute_result",
          "data": {
            "text/plain": [
              "tensor([0.2970, 0.6631, 0.2565, 0.3999, 0.4754])"
            ]
          },
          "metadata": {},
          "execution_count": 66
        }
      ]
    },
    {
      "cell_type": "code",
      "metadata": {
        "colab": {
          "base_uri": "https://localhost:8080/"
        },
        "id": "yUMQn5EbJMyd",
        "outputId": "e9ecc834-93b2-4807-9e76-9007c12c9c8c"
      },
      "source": [
        "# итоговый результат модели - отсортированный ys_pred\n",
        "ys_pred"
      ],
      "execution_count": 67,
      "outputs": [
        {
          "output_type": "execute_result",
          "data": {
            "text/plain": [
              "tensor([0.2970, 0.6631, 0.2565, 0.3999, 0.4754])"
            ]
          },
          "metadata": {},
          "execution_count": 67
        }
      ]
    },
    {
      "cell_type": "code",
      "metadata": {
        "id": "2iaFEICdJkQf"
      },
      "source": [
        "ys_pred = np.array(ys_pred)"
      ],
      "execution_count": 68,
      "outputs": []
    },
    {
      "cell_type": "code",
      "metadata": {
        "colab": {
          "base_uri": "https://localhost:8080/"
        },
        "id": "t7_4JFfJJn0M",
        "outputId": "6981560f-e2dd-4fd0-bdf8-056447401d52"
      },
      "source": [
        "ys_pred"
      ],
      "execution_count": 69,
      "outputs": [
        {
          "output_type": "execute_result",
          "data": {
            "text/plain": [
              "array([0.29698342, 0.66310203, 0.25645292, 0.39993823, 0.47543162],\n",
              "      dtype=float32)"
            ]
          },
          "metadata": {},
          "execution_count": 69
        }
      ]
    },
    {
      "cell_type": "code",
      "source": [
        "def compute_gain(y_value: float, gain_scheme: str) -> float:\n",
        "    if gain_scheme == \"exp2\":\n",
        "        gain = 2 ** y_value - 1\n",
        "    elif gain_scheme == \"const\":\n",
        "        gain = y_value\n",
        "    else:\n",
        "        raise ValueError(f\"{gain_scheme} method not supported, only exp2 and const.\")\n",
        "    return float(gain)"
      ],
      "metadata": {
        "id": "nY2LHIEKnwRV"
      },
      "execution_count": 92,
      "outputs": []
    },
    {
      "cell_type": "code",
      "source": [
        "def dcg_at_k(recommended_list, bought_list, k=5):\n",
        "    \n",
        "    flags = np.isin(recommended_list[:k], bought_list)\n",
        "    \n",
        "    norm_coeffs = [1/(i + 1) if i <= 2 else 1/math.log2(i + 1) for i in range(k)]\n",
        "    \n",
        "    return np.dot(flags, norm_coeffs) /k\n",
        "\n",
        "\n",
        "def ndcg_at_k(recommended_list, bought_list, k=5):\n",
        "    \n",
        "    ideal_dcg = dcg_at_k(recommended_list, recommended_list[:k], k)\n",
        "    return dcg_at_k(recommended_list, bought_list, k) / ideal_dcg "
      ],
      "metadata": {
        "id": "WPLhpfsooIHp"
      },
      "execution_count": 97,
      "outputs": []
    },
    {
      "cell_type": "code",
      "source": [
        "def ndcg_k(recommended_list, bought_list, k=5):\n",
        "\n",
        "    flags = np.isin(recommended_list[:k], bought_list)\n",
        "    \n",
        "    #рассчитаем DCG    \n",
        "    coeffs = [1/(i + 1) if i <= 2 else 1/math.log2(i + 1) for i in range(k)]\n",
        "    \n",
        "    dcg = np.dot(flags, coeffs)\n",
        "    \n",
        "    #Рассчитаем идеальный DCG\n",
        "    ideal_dcg = sum([1/(i+1) if i<=2 else 1/math.log2(i+1) for i in range(k)])\n",
        "    \n",
        "    ndcg = dcg/ideal_dcg\n",
        "    \n",
        "    return ndcg"
      ],
      "metadata": {
        "id": "WhfbdMmNpn7c"
      },
      "execution_count": 99,
      "outputs": []
    },
    {
      "cell_type": "code",
      "source": [
        "# ndcg_at_k(recommended_list, bought_list, k=5)  не работает, не понимаю как сделать правильно"
      ],
      "metadata": {
        "id": "MrNOgVMpMGpo"
      },
      "execution_count": null,
      "outputs": []
    },
    {
      "cell_type": "markdown",
      "metadata": {
        "id": "T7Y-Jtcdo1i6"
      },
      "source": [
        "### MRR@k\n",
        "Mean Reciprocal Rank\n",
        "\n",
        "- Считаем для первых k рекоммендаций\n",
        "- Найти ранк первого релевантного предсказания $k_u$\n",
        "- Посчитать reciprocal rank = $\\frac{1}{k_u}$\n",
        "\n",
        "$$MRR = mean(\\frac{1}{k_u})$$"
      ]
    },
    {
      "cell_type": "markdown",
      "metadata": {
        "id": "BJhwiK11vnFN"
      },
      "source": [
        "[MRR](https://drive.google.com/file/d/1uMFKqWULFmehS0pJtvXKRygjYxQOPise/view?usp=sharing)"
      ]
    },
    {
      "cell_type": "code",
      "metadata": {
        "id": "i56NVR0Qo1i6"
      },
      "source": [
        "def reciprocal_rank(recommended_list, bought_list, k=5):\n",
        "    rec_relevant_indices = np.nonzero(np.isin(recommended_list[:k], bought_list))[0]\n",
        "    if len(rec_relevant_indices) == 0:\n",
        "        return 0\n",
        "    rr = 1/(rec_relevant_indices[0]+1) #т к расчет идет с 1 (в отличии от индексов, которые с нуля)\n",
        "    return rr\n",
        "\n",
        "def mean_reciprocal_rank(recommended_list, bought_list, k=5):\n",
        "    \n",
        "    num_users = len(bought_list)\n",
        "    mrr = np.average([reciprocal_rank(recommended_list[i], bought_list[i], k) for i in range(num_users)])\n",
        "    \n",
        "    return mrr"
      ],
      "execution_count": 103,
      "outputs": []
    },
    {
      "cell_type": "code",
      "source": [
        "mean_reciprocal_rank(recommended_list, bought_list)"
      ],
      "metadata": {
        "colab": {
          "base_uri": "https://localhost:8080/"
        },
        "id": "mILkBgtYNzih",
        "outputId": "799667b2-21dd-4737-cec4-c4521681dd09"
      },
      "execution_count": 109,
      "outputs": [
        {
          "output_type": "execute_result",
          "data": {
            "text/plain": [
              "1.0"
            ]
          },
          "metadata": {},
          "execution_count": 109
        }
      ]
    },
    {
      "cell_type": "markdown",
      "metadata": {
        "id": "ZM-4TlgWo1i-"
      },
      "source": [
        "\n",
        "\n"
      ]
    },
    {
      "cell_type": "markdown",
      "metadata": {
        "id": "DlPGKta8o1i_"
      },
      "source": [
        "# 3. Связь бизнес-метрик, ML-метрик и функции потерь(loss)"
      ]
    },
    {
      "cell_type": "markdown",
      "metadata": {
        "id": "uOUGeoTco1i_"
      },
      "source": [
        "- **loss** - то, что оптимизирует модель (RMSE - Root Mean Squared Error)\n",
        "- **ML-метрика** - то, как мы измеряем качество на test (money precision@5)\n",
        "- **Бизнес-метрика** - то, что хочет оптимизировать бизнес (выручка)\n",
        "\n",
        "В идеале loss = ML-метрика = бизнес-метрика, но это возмонжо в очень редких случаях\n",
        "\n",
        "Надеемся, что:  \n",
        "    *Оптимизация loss --> рост ML-метрик --> рост бизнес-метрик*"
      ]
    },
    {
      "cell_type": "markdown",
      "metadata": {
        "id": "P9bMXLKro1jA"
      },
      "source": [
        "### Пример: рекомендательная система товаров на сайте  \n",
        "      \n",
        "На сайте есть баннер, на котором мы можем разместить 5 товаров. Надо порекомендовать эти 5 товаров персонально каждому юзеру\n",
        "\n",
        "*Шаг 1: Определим бизнес-метрику*  \n",
        "Бизнес хочет максимизировать выручку --> бизнес-метрика - **Выручка**  \n",
        "\n",
        "*Шаг 2: Разложим ее на составляющие*  \n",
        "Выручка =   \n",
        "       Средний чек * кол-во покупок =   \n",
        "       Средний чек * (число юзеров * конверсия из захода на сайт в заказ) =\n",
        "       Число юзеров * (Средний чек * конверсия из захода на сайт в заказ)\n",
        "       \n",
        "Рекомендательная система влияет только на (Средний чек * конверсия из захода на сайт в заказ).   \n",
        "Хорошим приближением этого является **money precision@5** - ML-метрика\n",
        "\n",
        "*Шаг 3: loss*  \n",
        "Это существенно сложнее. Персонализированные ML-модели не умеют напрямую оптимизировать конверсию. Стандартный loss - **RMSE**. Можно для начала попробовать его. \n",
        "\n",
        "P.S. Если вы хотите приблизить RMSE к money precision@5, то можно посчитать weighted RMSE, где вес каждого наблюдения = стоимость товара.   \n",
        "P.S.S. Про другие виды loss будет рассказано в курсе"
      ]
    }
  ]
}